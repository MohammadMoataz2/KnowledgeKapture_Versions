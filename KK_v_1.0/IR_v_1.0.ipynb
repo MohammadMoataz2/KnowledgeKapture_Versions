{
 "cells": [
  {
   "cell_type": "markdown",
   "source": [
    "**<center> <span style=\"color:#0F52BA;font-family:serif; font-size:32px;\"> KnowledgeKapture 1.0</span> </center>**"
   ],
   "metadata": {
    "collapsed": false
   },
   "id": "491756be4d62d4da"
  },
  {
   "cell_type": "markdown",
   "source": [
    "# Documents"
   ],
   "metadata": {
    "collapsed": false
   },
   "id": "c0a64074888c40c8"
  },
  {
   "cell_type": "code",
   "execution_count": 1,
   "outputs": [],
   "source": [
    "doc_dict = {\n",
    "\n",
    "    \"doc_1\" : \"Elastic search, is a big data text mining tool.\",\n",
    "    \"doc_2\" : \"Elastic search help us understand data.\",\n",
    "    \"doc_3\" : \"big data is useful when its big information.\"\n",
    "\n",
    "}\n",
    "\n",
    "query = \"Elastic search in Big data \""
   ],
   "metadata": {
    "collapsed": false,
    "ExecuteTime": {
     "end_time": "2023-09-18T15:03:54.234170900Z",
     "start_time": "2023-09-18T15:03:54.225039100Z"
    }
   },
   "id": "bd19f4e527ec088"
  },
  {
   "cell_type": "markdown",
   "source": [
    "# PreProcessing Function"
   ],
   "metadata": {
    "collapsed": false
   },
   "id": "8bfe32b2a38d3159"
  },
  {
   "cell_type": "code",
   "execution_count": 2,
   "id": "929abcf0",
   "metadata": {
    "ExecuteTime": {
     "end_time": "2023-09-18T15:03:55.489677Z",
     "start_time": "2023-09-18T15:03:54.231178400Z"
    }
   },
   "outputs": [],
   "source": [
    "from nltk.corpus import stopwords\n",
    "from nltk.tokenize import word_tokenize\n",
    "from nltk.tokenize import RegexpTokenizer\n",
    "from nltk.stem import PorterStemmer\n",
    "\n",
    "\n",
    "\n",
    "def Pre_proccing_text(text):\n",
    "        \n",
    "    stop_words = set(stopwords.words('english') + ['us'])\n",
    "    tokenizer = RegexpTokenizer(r'\\w+')\n",
    "    \n",
    "    word_tokens = word_tokenize(text)\n",
    "\n",
    "    filtered_sentence_stopword = [w.lower() for w in word_tokens if not w.lower() in stop_words]\n",
    "    \n",
    "    filtered_sentence_punc = tokenizer.tokenize(\" \".join(filtered_sentence_stopword))\n",
    "    \n",
    "    return \" \".join(filtered_sentence_punc)\n",
    "\n",
    "\n",
    "\n",
    "\n",
    "def Stemming_sentences(text):\n",
    "        \n",
    "    ps = PorterStemmer()\n",
    "    \n",
    "    stemming_list = [ps.stem(w) for w in text.split()]\n",
    "    \n",
    "    return \" \".join(stemming_list)"
   ]
  },
  {
   "cell_type": "markdown",
   "source": [
    "# Remove StopWords From Doc,Query"
   ],
   "metadata": {
    "collapsed": false
   },
   "id": "4b98511d8967d765"
  },
  {
   "cell_type": "code",
   "execution_count": 3,
   "id": "aeeaff83",
   "metadata": {
    "ExecuteTime": {
     "end_time": "2023-09-18T15:03:55.516871600Z",
     "start_time": "2023-09-18T15:03:55.489677Z"
    }
   },
   "outputs": [
    {
     "name": "stdout",
     "output_type": "stream",
     "text": [
      " The doc_1 : elastic search big data text mining tool \n",
      " The doc_2 : elastic search help understand data \n",
      " The doc_3 : big data useful big information \n",
      "******************************\n",
      "Query -- >  elastic search big data\n"
     ]
    }
   ],
   "source": [
    "filtered_stopwords_punc_doc_dict = dict()\n",
    "\n",
    "for i in doc_dict:\n",
    "    \n",
    "    filtered_stopwords_punc_doc_dict[i] = Pre_proccing_text(doc_dict[i])\n",
    "\n",
    "query = Pre_proccing_text(query)    \n",
    "    \n",
    "\n",
    "for  i in filtered_stopwords_punc_doc_dict:\n",
    "    print(f\" The {i} : {filtered_stopwords_punc_doc_dict[i]} \")\n",
    "    \n",
    "print(\"*\" *30)\n",
    "print(f\"Query -- >  {query}\")"
   ]
  },
  {
   "cell_type": "markdown",
   "source": [
    "# Stemning Doc,Query"
   ],
   "metadata": {
    "collapsed": false
   },
   "id": "71722d64e74c66e2"
  },
  {
   "cell_type": "code",
   "execution_count": 4,
   "id": "f0472ef7",
   "metadata": {
    "ExecuteTime": {
     "end_time": "2023-09-18T15:03:55.517869100Z",
     "start_time": "2023-09-18T15:03:55.505696200Z"
    }
   },
   "outputs": [
    {
     "name": "stdout",
     "output_type": "stream",
     "text": [
      " The doc_1 : elast search big data text mine tool \n",
      " The doc_2 : elast search help understand data \n",
      " The doc_3 : big data use big inform \n",
      "******************************\n",
      "Query -- >  elast search big data\n"
     ]
    }
   ],
   "source": [
    "stemming_dict = dict()\n",
    "\n",
    "for i in filtered_stopwords_punc_doc_dict:\n",
    "    \n",
    "    stemming_dict[i] = Stemming_sentences(filtered_stopwords_punc_doc_dict[i])\n",
    "\n",
    "stem_query = Stemming_sentences(query)    \n",
    "    \n",
    "\n",
    "for  i in stemming_dict:\n",
    "    print(f\" The {i} : {stemming_dict[i]} \")\n",
    "    \n",
    "print(\"*\" *30)\n",
    "print(f\"Query -- >  {stem_query}\")"
   ]
  },
  {
   "cell_type": "markdown",
   "source": [
    "# All Terms in docs"
   ],
   "metadata": {
    "collapsed": false
   },
   "id": "b2c0456c12632ea6"
  },
  {
   "cell_type": "code",
   "execution_count": 5,
   "id": "3874c407",
   "metadata": {
    "ExecuteTime": {
     "end_time": "2023-09-18T15:03:55.615836500Z",
     "start_time": "2023-09-18T15:03:55.513968800Z"
    }
   },
   "outputs": [
    {
     "data": {
      "text/plain": "['big',\n 'text',\n 'search',\n 'inform',\n 'use',\n 'help',\n 'understand',\n 'tool',\n 'elast',\n 'mine',\n 'data']"
     },
     "execution_count": 5,
     "metadata": {},
     "output_type": "execute_result"
    }
   ],
   "source": [
    "set_of_words = set()\n",
    "list_of_words = []\n",
    "for i in stemming_dict.values():\n",
    "    \n",
    "    for c in set(i.split(\" \")):\n",
    "        set_of_words.add(c)\n",
    "        list_of_words.append(c)\n",
    "set_of_words = list(set_of_words)\n",
    "set_of_words"
   ]
  },
  {
   "cell_type": "code",
   "execution_count": 6,
   "id": "90d0d2da",
   "metadata": {
    "ExecuteTime": {
     "end_time": "2023-09-18T15:03:55.617834Z",
     "start_time": "2023-09-18T15:03:55.517869100Z"
    }
   },
   "outputs": [
    {
     "data": {
      "text/plain": "['big',\n 'text',\n 'search',\n 'tool',\n 'elast',\n 'mine',\n 'data',\n 'search',\n 'help',\n 'understand',\n 'elast',\n 'data',\n 'big',\n 'data',\n 'inform',\n 'use']"
     },
     "execution_count": 6,
     "metadata": {},
     "output_type": "execute_result"
    }
   ],
   "source": [
    "list_of_words"
   ]
  },
  {
   "cell_type": "markdown",
   "source": [
    "# df IDF Table"
   ],
   "metadata": {
    "collapsed": false
   },
   "id": "7f501dea3a15b6d2"
  },
  {
   "cell_type": "code",
   "execution_count": 7,
   "id": "214958d5",
   "metadata": {
    "ExecuteTime": {
     "end_time": "2023-09-18T15:03:55.964254200Z",
     "start_time": "2023-09-18T15:03:55.523569200Z"
    }
   },
   "outputs": [
    {
     "data": {
      "text/plain": "         terms  DocFreq  IDF\n0          big        0    0\n1         data        0    0\n2        elast        0    0\n3         help        0    0\n4       inform        0    0\n5         mine        0    0\n6       search        0    0\n7         text        0    0\n8         tool        0    0\n9   understand        0    0\n10         use        0    0",
      "text/html": "<div>\n<style scoped>\n    .dataframe tbody tr th:only-of-type {\n        vertical-align: middle;\n    }\n\n    .dataframe tbody tr th {\n        vertical-align: top;\n    }\n\n    .dataframe thead th {\n        text-align: right;\n    }\n</style>\n<table border=\"1\" class=\"dataframe\">\n  <thead>\n    <tr style=\"text-align: right;\">\n      <th></th>\n      <th>terms</th>\n      <th>DocFreq</th>\n      <th>IDF</th>\n    </tr>\n  </thead>\n  <tbody>\n    <tr>\n      <th>0</th>\n      <td>big</td>\n      <td>0</td>\n      <td>0</td>\n    </tr>\n    <tr>\n      <th>1</th>\n      <td>data</td>\n      <td>0</td>\n      <td>0</td>\n    </tr>\n    <tr>\n      <th>2</th>\n      <td>elast</td>\n      <td>0</td>\n      <td>0</td>\n    </tr>\n    <tr>\n      <th>3</th>\n      <td>help</td>\n      <td>0</td>\n      <td>0</td>\n    </tr>\n    <tr>\n      <th>4</th>\n      <td>inform</td>\n      <td>0</td>\n      <td>0</td>\n    </tr>\n    <tr>\n      <th>5</th>\n      <td>mine</td>\n      <td>0</td>\n      <td>0</td>\n    </tr>\n    <tr>\n      <th>6</th>\n      <td>search</td>\n      <td>0</td>\n      <td>0</td>\n    </tr>\n    <tr>\n      <th>7</th>\n      <td>text</td>\n      <td>0</td>\n      <td>0</td>\n    </tr>\n    <tr>\n      <th>8</th>\n      <td>tool</td>\n      <td>0</td>\n      <td>0</td>\n    </tr>\n    <tr>\n      <th>9</th>\n      <td>understand</td>\n      <td>0</td>\n      <td>0</td>\n    </tr>\n    <tr>\n      <th>10</th>\n      <td>use</td>\n      <td>0</td>\n      <td>0</td>\n    </tr>\n  </tbody>\n</table>\n</div>"
     },
     "execution_count": 7,
     "metadata": {},
     "output_type": "execute_result"
    }
   ],
   "source": [
    "import pandas as pd\n",
    "import numpy as np\n",
    "docfreq_idf_dict = {\n",
    "    \n",
    "    \"terms\" : set_of_words,\n",
    "    \n",
    "    \"DocFreq\" : [i * 0 for i in range(len(set_of_words))],\n",
    "    \n",
    "    \"IDF\" : [i * 0 for i in range(len(set_of_words))]\n",
    "    \n",
    "}\n",
    "\n",
    "docfreq_idf_df = pd.DataFrame(docfreq_idf_dict).sort_values(by = 'terms').reset_index(drop=True)\n",
    "docfreq_idf_df"
   ]
  },
  {
   "cell_type": "markdown",
   "source": [
    "# Calculate DocFreq-IDF"
   ],
   "metadata": {
    "collapsed": false
   },
   "id": "40904b44214e2f89"
  },
  {
   "cell_type": "code",
   "execution_count": 8,
   "id": "030427fb",
   "metadata": {
    "ExecuteTime": {
     "end_time": "2023-09-18T15:03:55.980779300Z",
     "start_time": "2023-09-18T15:03:55.960264Z"
    }
   },
   "outputs": [
    {
     "data": {
      "text/plain": "         terms  DocFreq       IDF\n1          big        2  0.176091\n2         data        3  0.000000\n3        elast        2  0.176091\n4         help        1  0.477121\n5       inform        1  0.477121\n6         mine        1  0.477121\n7       search        2  0.176091\n8         text        1  0.477121\n9         tool        1  0.477121\n10  understand        1  0.477121\n11         use        1  0.477121",
      "text/html": "<div>\n<style scoped>\n    .dataframe tbody tr th:only-of-type {\n        vertical-align: middle;\n    }\n\n    .dataframe tbody tr th {\n        vertical-align: top;\n    }\n\n    .dataframe thead th {\n        text-align: right;\n    }\n</style>\n<table border=\"1\" class=\"dataframe\">\n  <thead>\n    <tr style=\"text-align: right;\">\n      <th></th>\n      <th>terms</th>\n      <th>DocFreq</th>\n      <th>IDF</th>\n    </tr>\n  </thead>\n  <tbody>\n    <tr>\n      <th>1</th>\n      <td>big</td>\n      <td>2</td>\n      <td>0.176091</td>\n    </tr>\n    <tr>\n      <th>2</th>\n      <td>data</td>\n      <td>3</td>\n      <td>0.000000</td>\n    </tr>\n    <tr>\n      <th>3</th>\n      <td>elast</td>\n      <td>2</td>\n      <td>0.176091</td>\n    </tr>\n    <tr>\n      <th>4</th>\n      <td>help</td>\n      <td>1</td>\n      <td>0.477121</td>\n    </tr>\n    <tr>\n      <th>5</th>\n      <td>inform</td>\n      <td>1</td>\n      <td>0.477121</td>\n    </tr>\n    <tr>\n      <th>6</th>\n      <td>mine</td>\n      <td>1</td>\n      <td>0.477121</td>\n    </tr>\n    <tr>\n      <th>7</th>\n      <td>search</td>\n      <td>2</td>\n      <td>0.176091</td>\n    </tr>\n    <tr>\n      <th>8</th>\n      <td>text</td>\n      <td>1</td>\n      <td>0.477121</td>\n    </tr>\n    <tr>\n      <th>9</th>\n      <td>tool</td>\n      <td>1</td>\n      <td>0.477121</td>\n    </tr>\n    <tr>\n      <th>10</th>\n      <td>understand</td>\n      <td>1</td>\n      <td>0.477121</td>\n    </tr>\n    <tr>\n      <th>11</th>\n      <td>use</td>\n      <td>1</td>\n      <td>0.477121</td>\n    </tr>\n  </tbody>\n</table>\n</div>"
     },
     "execution_count": 8,
     "metadata": {},
     "output_type": "execute_result"
    }
   ],
   "source": [
    "for i in list(docfreq_idf_df.index):\n",
    "    \n",
    "    doc_freq_term = list_of_words.count(docfreq_idf_df.loc[i,\"terms\"])\n",
    "    \n",
    "    docfreq_idf_df.loc[i,\"DocFreq\"] = doc_freq_term\n",
    "    docfreq_idf_df.loc[i,\"IDF\"]  = np.log10(len(doc_dict) / doc_freq_term)\n",
    "\n",
    "docfreq_idf_df.index =  docfreq_idf_df.index +1 \n",
    "docfreq_idf_df"
   ]
  },
  {
   "cell_type": "markdown",
   "source": [
    "# Tf Table"
   ],
   "metadata": {
    "collapsed": false
   },
   "id": "4e311208153ac694"
  },
  {
   "cell_type": "code",
   "execution_count": 9,
   "id": "a94b590c",
   "metadata": {
    "ExecuteTime": {
     "end_time": "2023-09-18T15:03:55.981776300Z",
     "start_time": "2023-09-18T15:03:55.973466100Z"
    }
   },
   "outputs": [
    {
     "data": {
      "text/plain": "array([[0., 0., 0., 0., 0., 0., 0., 0., 0., 0., 0.],\n       [0., 0., 0., 0., 0., 0., 0., 0., 0., 0., 0.],\n       [0., 0., 0., 0., 0., 0., 0., 0., 0., 0., 0.],\n       [0., 0., 0., 0., 0., 0., 0., 0., 0., 0., 0.]])"
     },
     "execution_count": 9,
     "metadata": {},
     "output_type": "execute_result"
    }
   ],
   "source": [
    "array_for_weight_freq_df = np.zeros((len(doc_dict)+1,len(docfreq_idf_df.index)))\n",
    "array_for_weight_freq_df"
   ]
  },
  {
   "cell_type": "code",
   "execution_count": 10,
   "id": "bf0f251f",
   "metadata": {
    "ExecuteTime": {
     "end_time": "2023-09-18T15:03:56.038705100Z",
     "start_time": "2023-09-18T15:03:55.985766200Z"
    }
   },
   "outputs": [
    {
     "data": {
      "text/plain": "        T1   T2   T3   T4   T5   T6   T7   T8   T9  T10  T11\ndoc_1  0.0  0.0  0.0  0.0  0.0  0.0  0.0  0.0  0.0  0.0  0.0\ndoc_2  0.0  0.0  0.0  0.0  0.0  0.0  0.0  0.0  0.0  0.0  0.0\ndoc_3  0.0  0.0  0.0  0.0  0.0  0.0  0.0  0.0  0.0  0.0  0.0\nQ      0.0  0.0  0.0  0.0  0.0  0.0  0.0  0.0  0.0  0.0  0.0",
      "text/html": "<div>\n<style scoped>\n    .dataframe tbody tr th:only-of-type {\n        vertical-align: middle;\n    }\n\n    .dataframe tbody tr th {\n        vertical-align: top;\n    }\n\n    .dataframe thead th {\n        text-align: right;\n    }\n</style>\n<table border=\"1\" class=\"dataframe\">\n  <thead>\n    <tr style=\"text-align: right;\">\n      <th></th>\n      <th>T1</th>\n      <th>T2</th>\n      <th>T3</th>\n      <th>T4</th>\n      <th>T5</th>\n      <th>T6</th>\n      <th>T7</th>\n      <th>T8</th>\n      <th>T9</th>\n      <th>T10</th>\n      <th>T11</th>\n    </tr>\n  </thead>\n  <tbody>\n    <tr>\n      <th>doc_1</th>\n      <td>0.0</td>\n      <td>0.0</td>\n      <td>0.0</td>\n      <td>0.0</td>\n      <td>0.0</td>\n      <td>0.0</td>\n      <td>0.0</td>\n      <td>0.0</td>\n      <td>0.0</td>\n      <td>0.0</td>\n      <td>0.0</td>\n    </tr>\n    <tr>\n      <th>doc_2</th>\n      <td>0.0</td>\n      <td>0.0</td>\n      <td>0.0</td>\n      <td>0.0</td>\n      <td>0.0</td>\n      <td>0.0</td>\n      <td>0.0</td>\n      <td>0.0</td>\n      <td>0.0</td>\n      <td>0.0</td>\n      <td>0.0</td>\n    </tr>\n    <tr>\n      <th>doc_3</th>\n      <td>0.0</td>\n      <td>0.0</td>\n      <td>0.0</td>\n      <td>0.0</td>\n      <td>0.0</td>\n      <td>0.0</td>\n      <td>0.0</td>\n      <td>0.0</td>\n      <td>0.0</td>\n      <td>0.0</td>\n      <td>0.0</td>\n    </tr>\n    <tr>\n      <th>Q</th>\n      <td>0.0</td>\n      <td>0.0</td>\n      <td>0.0</td>\n      <td>0.0</td>\n      <td>0.0</td>\n      <td>0.0</td>\n      <td>0.0</td>\n      <td>0.0</td>\n      <td>0.0</td>\n      <td>0.0</td>\n      <td>0.0</td>\n    </tr>\n  </tbody>\n</table>\n</div>"
     },
     "execution_count": 10,
     "metadata": {},
     "output_type": "execute_result"
    }
   ],
   "source": [
    "df_for_weight_freq_df = pd.DataFrame(array_for_weight_freq_df,\n",
    "                                     columns = [f\"T{i}\" for i in docfreq_idf_df.index],index  = [i for i in doc_dict] + ['Q'])\n",
    "df_for_weight_freq_df"
   ]
  },
  {
   "cell_type": "markdown",
   "source": [
    "# Calculate Tf Table"
   ],
   "metadata": {
    "collapsed": false
   },
   "id": "3ec92948a59e0dac"
  },
  {
   "cell_type": "code",
   "execution_count": 11,
   "id": "d6f7a29b",
   "metadata": {
    "ExecuteTime": {
     "end_time": "2023-09-18T15:03:56.128983900Z",
     "start_time": "2023-09-18T15:03:55.991221100Z"
    }
   },
   "outputs": [
    {
     "data": {
      "text/plain": "        T1   T2   T3   T4   T5   T6   T7   T8   T9  T10  T11\ndoc_1  1.0  1.0  1.0  0.0  0.0  1.0  1.0  1.0  1.0  0.0  0.0\ndoc_2  0.0  1.0  1.0  1.0  0.0  0.0  1.0  0.0  0.0  1.0  0.0\ndoc_3  2.0  1.0  0.0  0.0  1.0  0.0  0.0  0.0  0.0  0.0  1.0\nQ      1.0  1.0  1.0  0.0  0.0  0.0  1.0  0.0  0.0  0.0  0.0",
      "text/html": "<div>\n<style scoped>\n    .dataframe tbody tr th:only-of-type {\n        vertical-align: middle;\n    }\n\n    .dataframe tbody tr th {\n        vertical-align: top;\n    }\n\n    .dataframe thead th {\n        text-align: right;\n    }\n</style>\n<table border=\"1\" class=\"dataframe\">\n  <thead>\n    <tr style=\"text-align: right;\">\n      <th></th>\n      <th>T1</th>\n      <th>T2</th>\n      <th>T3</th>\n      <th>T4</th>\n      <th>T5</th>\n      <th>T6</th>\n      <th>T7</th>\n      <th>T8</th>\n      <th>T9</th>\n      <th>T10</th>\n      <th>T11</th>\n    </tr>\n  </thead>\n  <tbody>\n    <tr>\n      <th>doc_1</th>\n      <td>1.0</td>\n      <td>1.0</td>\n      <td>1.0</td>\n      <td>0.0</td>\n      <td>0.0</td>\n      <td>1.0</td>\n      <td>1.0</td>\n      <td>1.0</td>\n      <td>1.0</td>\n      <td>0.0</td>\n      <td>0.0</td>\n    </tr>\n    <tr>\n      <th>doc_2</th>\n      <td>0.0</td>\n      <td>1.0</td>\n      <td>1.0</td>\n      <td>1.0</td>\n      <td>0.0</td>\n      <td>0.0</td>\n      <td>1.0</td>\n      <td>0.0</td>\n      <td>0.0</td>\n      <td>1.0</td>\n      <td>0.0</td>\n    </tr>\n    <tr>\n      <th>doc_3</th>\n      <td>2.0</td>\n      <td>1.0</td>\n      <td>0.0</td>\n      <td>0.0</td>\n      <td>1.0</td>\n      <td>0.0</td>\n      <td>0.0</td>\n      <td>0.0</td>\n      <td>0.0</td>\n      <td>0.0</td>\n      <td>1.0</td>\n    </tr>\n    <tr>\n      <th>Q</th>\n      <td>1.0</td>\n      <td>1.0</td>\n      <td>1.0</td>\n      <td>0.0</td>\n      <td>0.0</td>\n      <td>0.0</td>\n      <td>1.0</td>\n      <td>0.0</td>\n      <td>0.0</td>\n      <td>0.0</td>\n      <td>0.0</td>\n    </tr>\n  </tbody>\n</table>\n</div>"
     },
     "execution_count": 11,
     "metadata": {},
     "output_type": "execute_result"
    }
   ],
   "source": [
    "df_for_freq_df = df_for_weight_freq_df.copy()\n",
    "\n",
    "for i in df_for_weight_freq_df.index:\n",
    "    \n",
    "    \n",
    "    if i == 'Q':\n",
    "        continue\n",
    "    \n",
    "    for c in df_for_weight_freq_df.columns:\n",
    "        \n",
    "        term_freq_doc = stemming_dict[i].split(\" \").count(docfreq_idf_df.loc[int(c[1:]),\"terms\"])\n",
    "        \n",
    "        df_for_freq_df.loc[i,c] = term_freq_doc\n",
    "        \n",
    "\n",
    "for c in df_for_weight_freq_df.columns:\n",
    "    \n",
    "    term_freq_query = stem_query.split(\" \").count(docfreq_idf_df.loc[int(c[1:]),\"terms\"])\n",
    "    \n",
    "    df_for_freq_df.loc[\"Q\",c] = term_freq_query\n",
    "\n",
    "\n",
    "df_for_freq_df"
   ]
  },
  {
   "cell_type": "markdown",
   "source": [
    "# Calculate Weight Table"
   ],
   "metadata": {
    "collapsed": false
   },
   "id": "b80fa05f86f8f39c"
  },
  {
   "cell_type": "code",
   "execution_count": 12,
   "id": "b2737ddc",
   "metadata": {
    "ExecuteTime": {
     "end_time": "2023-09-18T15:03:56.437736700Z",
     "start_time": "2023-09-18T15:03:56.282761600Z"
    }
   },
   "outputs": [
    {
     "data": {
      "text/plain": "             T1   T2        T3        T4        T5        T6        T7  \\\ndoc_1  0.176091  0.0  0.176091  0.000000  0.000000  0.477121  0.176091   \ndoc_2  0.000000  0.0  0.176091  0.477121  0.000000  0.000000  0.176091   \ndoc_3  0.352183  0.0  0.000000  0.000000  0.477121  0.000000  0.000000   \nQ      0.176091  0.0  0.176091  0.000000  0.000000  0.000000  0.176091   \n\n             T8        T9       T10       T11  \ndoc_1  0.477121  0.477121  0.000000  0.000000  \ndoc_2  0.000000  0.000000  0.477121  0.000000  \ndoc_3  0.000000  0.000000  0.000000  0.477121  \nQ      0.000000  0.000000  0.000000  0.000000  ",
      "text/html": "<div>\n<style scoped>\n    .dataframe tbody tr th:only-of-type {\n        vertical-align: middle;\n    }\n\n    .dataframe tbody tr th {\n        vertical-align: top;\n    }\n\n    .dataframe thead th {\n        text-align: right;\n    }\n</style>\n<table border=\"1\" class=\"dataframe\">\n  <thead>\n    <tr style=\"text-align: right;\">\n      <th></th>\n      <th>T1</th>\n      <th>T2</th>\n      <th>T3</th>\n      <th>T4</th>\n      <th>T5</th>\n      <th>T6</th>\n      <th>T7</th>\n      <th>T8</th>\n      <th>T9</th>\n      <th>T10</th>\n      <th>T11</th>\n    </tr>\n  </thead>\n  <tbody>\n    <tr>\n      <th>doc_1</th>\n      <td>0.176091</td>\n      <td>0.0</td>\n      <td>0.176091</td>\n      <td>0.000000</td>\n      <td>0.000000</td>\n      <td>0.477121</td>\n      <td>0.176091</td>\n      <td>0.477121</td>\n      <td>0.477121</td>\n      <td>0.000000</td>\n      <td>0.000000</td>\n    </tr>\n    <tr>\n      <th>doc_2</th>\n      <td>0.000000</td>\n      <td>0.0</td>\n      <td>0.176091</td>\n      <td>0.477121</td>\n      <td>0.000000</td>\n      <td>0.000000</td>\n      <td>0.176091</td>\n      <td>0.000000</td>\n      <td>0.000000</td>\n      <td>0.477121</td>\n      <td>0.000000</td>\n    </tr>\n    <tr>\n      <th>doc_3</th>\n      <td>0.352183</td>\n      <td>0.0</td>\n      <td>0.000000</td>\n      <td>0.000000</td>\n      <td>0.477121</td>\n      <td>0.000000</td>\n      <td>0.000000</td>\n      <td>0.000000</td>\n      <td>0.000000</td>\n      <td>0.000000</td>\n      <td>0.477121</td>\n    </tr>\n    <tr>\n      <th>Q</th>\n      <td>0.176091</td>\n      <td>0.0</td>\n      <td>0.176091</td>\n      <td>0.000000</td>\n      <td>0.000000</td>\n      <td>0.000000</td>\n      <td>0.176091</td>\n      <td>0.000000</td>\n      <td>0.000000</td>\n      <td>0.000000</td>\n      <td>0.000000</td>\n    </tr>\n  </tbody>\n</table>\n</div>"
     },
     "execution_count": 12,
     "metadata": {},
     "output_type": "execute_result"
    }
   ],
   "source": [
    "df_for_weight_df = df_for_weight_freq_df.copy()\n",
    "\n",
    "for i in df_for_weight_freq_df.index:\n",
    "    \n",
    "    \n",
    "    if i == 'Q':\n",
    "        continue\n",
    "    \n",
    "    for c in df_for_weight_freq_df.columns:\n",
    "        \n",
    "        term_freq_doc = stemming_dict[i].split(\" \").count(docfreq_idf_df.loc[int(c[1:]),\"terms\"])\n",
    "        \n",
    "        idf = docfreq_idf_df.loc[int(c[1:]),\"IDF\"]\n",
    "        \n",
    "        df_for_weight_df.loc[i,c] = term_freq_doc * idf\n",
    "        \n",
    "\n",
    "for c in df_for_weight_freq_df.columns:\n",
    "    \n",
    "    term_freq_query = stem_query.split(\" \").count(docfreq_idf_df.loc[int(c[1:]),\"terms\"])\n",
    "    \n",
    "    idf = docfreq_idf_df.loc[int(c[1:]),\"IDF\"]\n",
    "    \n",
    "    df_for_weight_df.loc[\"Q\",c] = term_freq_query * idf\n",
    "\n",
    "\n",
    "df_for_weight_df"
   ]
  },
  {
   "cell_type": "markdown",
   "source": [
    "# Result Table"
   ],
   "metadata": {
    "collapsed": false
   },
   "id": "98148d2da4bba866"
  },
  {
   "cell_type": "code",
   "execution_count": 13,
   "id": "0a725378",
   "metadata": {
    "ExecuteTime": {
     "end_time": "2023-09-18T15:03:56.753744300Z",
     "start_time": "2023-09-18T15:03:56.577372200Z"
    }
   },
   "outputs": [
    {
     "data": {
      "text/plain": "       inner  cosine  jaccard  dice\ndoc_1    0.0     0.0      0.0   0.0\ndoc_2    0.0     0.0      0.0   0.0\ndoc_3    0.0     0.0      0.0   0.0",
      "text/html": "<div>\n<style scoped>\n    .dataframe tbody tr th:only-of-type {\n        vertical-align: middle;\n    }\n\n    .dataframe tbody tr th {\n        vertical-align: top;\n    }\n\n    .dataframe thead th {\n        text-align: right;\n    }\n</style>\n<table border=\"1\" class=\"dataframe\">\n  <thead>\n    <tr style=\"text-align: right;\">\n      <th></th>\n      <th>inner</th>\n      <th>cosine</th>\n      <th>jaccard</th>\n      <th>dice</th>\n    </tr>\n  </thead>\n  <tbody>\n    <tr>\n      <th>doc_1</th>\n      <td>0.0</td>\n      <td>0.0</td>\n      <td>0.0</td>\n      <td>0.0</td>\n    </tr>\n    <tr>\n      <th>doc_2</th>\n      <td>0.0</td>\n      <td>0.0</td>\n      <td>0.0</td>\n      <td>0.0</td>\n    </tr>\n    <tr>\n      <th>doc_3</th>\n      <td>0.0</td>\n      <td>0.0</td>\n      <td>0.0</td>\n      <td>0.0</td>\n    </tr>\n  </tbody>\n</table>\n</div>"
     },
     "execution_count": 13,
     "metadata": {},
     "output_type": "execute_result"
    }
   ],
   "source": [
    "\n",
    "methods_result = ['inner',\"cosine\",\"jaccard\",\"dice\"]\n",
    "\n",
    "\n",
    "df_result = pd.DataFrame(np.zeros((len(doc_dict),4)),index = doc_dict.keys() ,columns = methods_result)\n",
    "df_result"
   ]
  },
  {
   "cell_type": "markdown",
   "source": [
    "# Inner Product"
   ],
   "metadata": {
    "collapsed": false
   },
   "id": "5c5dfe02f7dcc31"
  },
  {
   "cell_type": "code",
   "execution_count": 14,
   "outputs": [
    {
     "data": {
      "text/plain": "          inner  cosine  jaccard  dice\ndoc_1  0.093024     0.0      0.0   0.0\ndoc_2  0.062016     0.0      0.0   0.0\ndoc_3  0.062016     0.0      0.0   0.0",
      "text/html": "<div>\n<style scoped>\n    .dataframe tbody tr th:only-of-type {\n        vertical-align: middle;\n    }\n\n    .dataframe tbody tr th {\n        vertical-align: top;\n    }\n\n    .dataframe thead th {\n        text-align: right;\n    }\n</style>\n<table border=\"1\" class=\"dataframe\">\n  <thead>\n    <tr style=\"text-align: right;\">\n      <th></th>\n      <th>inner</th>\n      <th>cosine</th>\n      <th>jaccard</th>\n      <th>dice</th>\n    </tr>\n  </thead>\n  <tbody>\n    <tr>\n      <th>doc_1</th>\n      <td>0.093024</td>\n      <td>0.0</td>\n      <td>0.0</td>\n      <td>0.0</td>\n    </tr>\n    <tr>\n      <th>doc_2</th>\n      <td>0.062016</td>\n      <td>0.0</td>\n      <td>0.0</td>\n      <td>0.0</td>\n    </tr>\n    <tr>\n      <th>doc_3</th>\n      <td>0.062016</td>\n      <td>0.0</td>\n      <td>0.0</td>\n      <td>0.0</td>\n    </tr>\n  </tbody>\n</table>\n</div>"
     },
     "execution_count": 14,
     "metadata": {},
     "output_type": "execute_result"
    }
   ],
   "source": [
    "# FIRST METHOD , inner product ∑(𝒅𝒊𝒌.𝒒𝒌)\n",
    "\n",
    "# Calculate the inner product between query and documents weights\n",
    "query_weights = df_for_weight_df.loc['Q']\n",
    "doc_weights = df_for_weight_df.drop('Q')\n",
    "\n",
    "inner_product = doc_weights.dot(query_weights)\n",
    "\n",
    "df_result[\"inner\"]=inner_product\n",
    "\n",
    "df_result"
   ],
   "metadata": {
    "collapsed": false,
    "ExecuteTime": {
     "end_time": "2023-09-18T15:03:57.122023900Z",
     "start_time": "2023-09-18T15:03:56.939424800Z"
    }
   },
   "id": "e1a8612799295828"
  },
  {
   "cell_type": "markdown",
   "source": [
    "# Cosine\n"
   ],
   "metadata": {
    "collapsed": false
   },
   "id": "a4bb2a11f1b29353"
  },
  {
   "cell_type": "code",
   "execution_count": 15,
   "outputs": [
    {
     "data": {
      "text/plain": "          inner    cosine  jaccard  dice\ndoc_1  0.093024  0.755929      0.0   0.0\ndoc_2  0.062016  0.670820      0.0   0.0\ndoc_3  0.062016  0.566947      0.0   0.0",
      "text/html": "<div>\n<style scoped>\n    .dataframe tbody tr th:only-of-type {\n        vertical-align: middle;\n    }\n\n    .dataframe tbody tr th {\n        vertical-align: top;\n    }\n\n    .dataframe thead th {\n        text-align: right;\n    }\n</style>\n<table border=\"1\" class=\"dataframe\">\n  <thead>\n    <tr style=\"text-align: right;\">\n      <th></th>\n      <th>inner</th>\n      <th>cosine</th>\n      <th>jaccard</th>\n      <th>dice</th>\n    </tr>\n  </thead>\n  <tbody>\n    <tr>\n      <th>doc_1</th>\n      <td>0.093024</td>\n      <td>0.755929</td>\n      <td>0.0</td>\n      <td>0.0</td>\n    </tr>\n    <tr>\n      <th>doc_2</th>\n      <td>0.062016</td>\n      <td>0.670820</td>\n      <td>0.0</td>\n      <td>0.0</td>\n    </tr>\n    <tr>\n      <th>doc_3</th>\n      <td>0.062016</td>\n      <td>0.566947</td>\n      <td>0.0</td>\n      <td>0.0</td>\n    </tr>\n  </tbody>\n</table>\n</div>"
     },
     "execution_count": 15,
     "metadata": {},
     "output_type": "execute_result"
    }
   ],
   "source": [
    "\n",
    "# SECONDE METHOD , cosine\n",
    "\n",
    "query_tf = df_for_freq_df.loc['Q']\n",
    "doc_tf = df_for_freq_df.drop('Q')\n",
    "\n",
    "#Numerator :\n",
    "dot_products = doc_tf.dot(query_tf)\n",
    "\n",
    "#denominator :\n",
    "#length for doc and query\n",
    "len_query = np.sqrt(np.sum(np.square(query_tf)))\n",
    "\n",
    "len_docs = np.sqrt(np.sum(np.square(doc_tf), axis=1))\n",
    "\n",
    "cosine = dot_products / (len_docs * len_query)\n",
    "\n",
    "df_result[\"cosine\"]=cosine\n",
    "\n",
    "df_result"
   ],
   "metadata": {
    "collapsed": false,
    "ExecuteTime": {
     "end_time": "2023-09-18T15:03:57.337368400Z",
     "start_time": "2023-09-18T15:03:57.230519200Z"
    }
   },
   "id": "9fb5bf61d60792f1"
  },
  {
   "cell_type": "markdown",
   "source": [
    "# Jaccard"
   ],
   "metadata": {
    "collapsed": false
   },
   "id": "c5121cc7bbdb44af"
  },
  {
   "cell_type": "code",
   "execution_count": 16,
   "outputs": [
    {
     "data": {
      "text/plain": "          inner    cosine   jaccard  dice\ndoc_1  0.093024  0.755929  0.119883   0.0\ndoc_2  0.062016  0.670820  0.113104   0.0\ndoc_3  0.062016  0.566947  0.101611   0.0",
      "text/html": "<div>\n<style scoped>\n    .dataframe tbody tr th:only-of-type {\n        vertical-align: middle;\n    }\n\n    .dataframe tbody tr th {\n        vertical-align: top;\n    }\n\n    .dataframe thead th {\n        text-align: right;\n    }\n</style>\n<table border=\"1\" class=\"dataframe\">\n  <thead>\n    <tr style=\"text-align: right;\">\n      <th></th>\n      <th>inner</th>\n      <th>cosine</th>\n      <th>jaccard</th>\n      <th>dice</th>\n    </tr>\n  </thead>\n  <tbody>\n    <tr>\n      <th>doc_1</th>\n      <td>0.093024</td>\n      <td>0.755929</td>\n      <td>0.119883</td>\n      <td>0.0</td>\n    </tr>\n    <tr>\n      <th>doc_2</th>\n      <td>0.062016</td>\n      <td>0.670820</td>\n      <td>0.113104</td>\n      <td>0.0</td>\n    </tr>\n    <tr>\n      <th>doc_3</th>\n      <td>0.062016</td>\n      <td>0.566947</td>\n      <td>0.101611</td>\n      <td>0.0</td>\n    </tr>\n  </tbody>\n</table>\n</div>"
     },
     "execution_count": 16,
     "metadata": {},
     "output_type": "execute_result"
    }
   ],
   "source": [
    "\n",
    "# THIRD METHOD , jaccard : i𝒏𝒏𝒆𝒓 𝒑𝒓𝒐𝒅𝒖𝒄𝒕/(∑𝒅𝟐ⅈ𝒌. + ∑𝒒𝟐𝒌−𝒊𝒏𝒏𝒆𝒓 𝒑𝒓𝒐𝒅𝒖𝒄𝒕)\n",
    "\n",
    "squared_weights_query= np.sum(np.square(query_weights))\n",
    "sum_squared_weights = np.square(doc_weights).sum(axis=1)\n",
    "Jaccard = inner_product / (squared_weights_query + sum_squared_weights - inner_product)\n",
    "df_result[\"jaccard\"]=Jaccard\n",
    "df_result"
   ],
   "metadata": {
    "collapsed": false,
    "ExecuteTime": {
     "end_time": "2023-09-18T15:03:57.738690Z",
     "start_time": "2023-09-18T15:03:57.583492300Z"
    }
   },
   "id": "711aaf76b1fd4429"
  },
  {
   "cell_type": "markdown",
   "source": [
    "# dice"
   ],
   "metadata": {
    "collapsed": false
   },
   "id": "1786acd0f012e18e"
  },
  {
   "cell_type": "code",
   "execution_count": 17,
   "outputs": [
    {
     "data": {
      "text/plain": "          inner    cosine   jaccard      dice\ndoc_1  0.093024  0.755929  0.119883  0.727273\ndoc_2  0.062016  0.670820  0.113104  0.666667\ndoc_3  0.062016  0.566947  0.101611  0.545455",
      "text/html": "<div>\n<style scoped>\n    .dataframe tbody tr th:only-of-type {\n        vertical-align: middle;\n    }\n\n    .dataframe tbody tr th {\n        vertical-align: top;\n    }\n\n    .dataframe thead th {\n        text-align: right;\n    }\n</style>\n<table border=\"1\" class=\"dataframe\">\n  <thead>\n    <tr style=\"text-align: right;\">\n      <th></th>\n      <th>inner</th>\n      <th>cosine</th>\n      <th>jaccard</th>\n      <th>dice</th>\n    </tr>\n  </thead>\n  <tbody>\n    <tr>\n      <th>doc_1</th>\n      <td>0.093024</td>\n      <td>0.755929</td>\n      <td>0.119883</td>\n      <td>0.727273</td>\n    </tr>\n    <tr>\n      <th>doc_2</th>\n      <td>0.062016</td>\n      <td>0.670820</td>\n      <td>0.113104</td>\n      <td>0.666667</td>\n    </tr>\n    <tr>\n      <th>doc_3</th>\n      <td>0.062016</td>\n      <td>0.566947</td>\n      <td>0.101611</td>\n      <td>0.545455</td>\n    </tr>\n  </tbody>\n</table>\n</div>"
     },
     "execution_count": 17,
     "metadata": {},
     "output_type": "execute_result"
    }
   ],
   "source": [
    "\n",
    "\n",
    "#FORTH METHOD , dice\n",
    "#Numerator :\n",
    "dot_products = doc_tf.dot(query_tf)\n",
    "\n",
    "#denominator :\n",
    "sum_squared_query= np.sum(np.square(query_tf))\n",
    "sum_squared_doc = np.square(doc_tf).sum(axis=1)\n",
    "\n",
    "#final equation\n",
    "dice = 2*dot_products / (sum_squared_doc + sum_squared_query)\n",
    "df_result[\"dice\"]=dice\n",
    "df_result"
   ],
   "metadata": {
    "collapsed": false,
    "ExecuteTime": {
     "end_time": "2023-09-18T15:03:58.009750900Z",
     "start_time": "2023-09-18T15:03:57.956820600Z"
    }
   },
   "id": "8782206ea119de5c"
  },
  {
   "cell_type": "markdown",
   "source": [
    "# Sorting Table"
   ],
   "metadata": {
    "collapsed": false
   },
   "id": "ce1d9913487b8162"
  },
  {
   "cell_type": "code",
   "execution_count": 18,
   "id": "fca33678",
   "metadata": {
    "ExecuteTime": {
     "end_time": "2023-09-18T15:03:58.339287300Z",
     "start_time": "2023-09-18T15:03:58.318860900Z"
    }
   },
   "outputs": [
    {
     "data": {
      "text/plain": "          inner    cosine   jaccard      dice\ndoc_1  0.093024  0.755929  0.119883  0.727273\ndoc_2  0.062016  0.670820  0.113104  0.666667\ndoc_3  0.062016  0.566947  0.101611  0.545455",
      "text/html": "<div>\n<style scoped>\n    .dataframe tbody tr th:only-of-type {\n        vertical-align: middle;\n    }\n\n    .dataframe tbody tr th {\n        vertical-align: top;\n    }\n\n    .dataframe thead th {\n        text-align: right;\n    }\n</style>\n<table border=\"1\" class=\"dataframe\">\n  <thead>\n    <tr style=\"text-align: right;\">\n      <th></th>\n      <th>inner</th>\n      <th>cosine</th>\n      <th>jaccard</th>\n      <th>dice</th>\n    </tr>\n  </thead>\n  <tbody>\n    <tr>\n      <th>doc_1</th>\n      <td>0.093024</td>\n      <td>0.755929</td>\n      <td>0.119883</td>\n      <td>0.727273</td>\n    </tr>\n    <tr>\n      <th>doc_2</th>\n      <td>0.062016</td>\n      <td>0.670820</td>\n      <td>0.113104</td>\n      <td>0.666667</td>\n    </tr>\n    <tr>\n      <th>doc_3</th>\n      <td>0.062016</td>\n      <td>0.566947</td>\n      <td>0.101611</td>\n      <td>0.545455</td>\n    </tr>\n  </tbody>\n</table>\n</div>"
     },
     "execution_count": 18,
     "metadata": {},
     "output_type": "execute_result"
    }
   ],
   "source": [
    "x = list(df_result.columns)\n",
    "\n",
    "sorted_df2 = df_result.sort_values(by=x, ascending=False)\n",
    "\n",
    "sorted_df2"
   ]
  },
  {
   "cell_type": "code",
   "execution_count": 62,
   "id": "f0d644ab",
   "metadata": {
    "ExecuteTime": {
     "end_time": "2023-08-28T13:27:47.784815100Z",
     "start_time": "2023-08-28T13:27:47.710818200Z"
    }
   },
   "outputs": [],
   "source": []
  }
 ],
 "metadata": {
  "kernelspec": {
   "name": "python3",
   "language": "python",
   "display_name": "Python 3 (ipykernel)"
  },
  "language_info": {
   "codemirror_mode": {
    "name": "ipython",
    "version": 3
   },
   "file_extension": ".py",
   "mimetype": "text/x-python",
   "name": "python",
   "nbconvert_exporter": "python",
   "pygments_lexer": "ipython3",
   "version": "3.10.9"
  }
 },
 "nbformat": 4,
 "nbformat_minor": 5
}
